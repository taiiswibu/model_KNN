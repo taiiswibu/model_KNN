{
 "cells": [
  {
   "cell_type": "markdown",
   "metadata": {},
   "source": [
    "# Bộ dữ liệu Wine "
   ]
  },
  {
   "cell_type": "markdown",
   "metadata": {},
   "source": [
    "Để đánh giá hiệu suất của mô hình KNN, tui sử dụng thêm bộ dữ liệu Wine để đánh giá. Bộ dữ liệu Wine  này bao gồm thông tin về các loại rượu và các đặc tính hóa học của chúng, với tổng cộng 178 mẫu và 13 đặc trưng."
   ]
  },
  {
   "cell_type": "code",
   "execution_count": 14,
   "metadata": {},
   "outputs": [
    {
     "name": "stdout",
     "output_type": "stream",
     "text": [
      "Tập dữ liệu Wine đã được lưu vào: wine_dataset.csv\n"
     ]
    },
    {
     "name": "stderr",
     "output_type": "stream",
     "text": [
      "<>:15: SyntaxWarning: invalid escape sequence '\\C'\n",
      "<>:15: SyntaxWarning: invalid escape sequence '\\C'\n",
      "C:\\Users\\vovan\\AppData\\Local\\Temp\\ipykernel_11236\\2012939126.py:15: SyntaxWarning: invalid escape sequence '\\C'\n",
      "  file_path = 'D:\\Code\\May_hoc\\data\\wine_dataset.csv'\n"
     ]
    }
   ],
   "source": [
    "import pandas as pd\n",
    "from sklearn.datasets import load_wine\n",
    "\n",
    "# Tải tập dữ liệu Wine\n",
    "wine = load_wine()\n",
    "\n",
    "# Tạo DataFrame từ dữ liệu và nhãn\n",
    "df = pd.DataFrame(data=wine.data, columns=wine.feature_names)\n",
    "df['Target'] = wine.target\n",
    "\n",
    "# Thêm cột ID\n",
    "df.insert(0, 'Id', range(1, len(df) + 1))\n",
    "\n",
    "# Lưu DataFrame vào một tệp CSV trong thư mục chỉ định\n",
    "file_path = 'D:\\Code\\May_hoc\\data\\wine_dataset.csv'\n",
    "df.to_csv(file_path, index=False)\n",
    "\n",
    "print(\"Tập dữ liệu Wine đã được lưu vào: wine_dataset.csv\")\n"
   ]
  },
  {
   "cell_type": "markdown",
   "metadata": {},
   "source": [
    "# Tách training và test sets\n",
    " chúng ta chia dữ liệu thành tập huấn luyện (80%) và tập kiểm tra (20%). Điều này có nghĩa là 80% dữ liệu sẽ được sử dụng để huấn luyện mô hình và 20% còn lại sẽ được sử dụng để đánh giá mô hình"
   ]
  },
  {
   "cell_type": "code",
   "execution_count": 15,
   "metadata": {},
   "outputs": [
    {
     "name": "stdout",
     "output_type": "stream",
     "text": [
      "Số lượng mẫu trong tập huấn luyện: 142\n",
      "Số lượng mẫu trong tập kiểm tra: 36\n"
     ]
    }
   ],
   "source": [
    "from sklearn.model_selection import train_test_split\n",
    "\n",
    "# Tách dữ liệu thành tập huấn luyện và tập kiểm tra\n",
    "X_train, X_test, y_train, y_test = train_test_split(wine.data, wine.target, test_size=0.2, random_state=42)\n",
    "\n",
    "print(\"Số lượng mẫu trong tập huấn luyện:\", len(X_train))\n",
    "print(\"Số lượng mẫu trong tập kiểm tra:\", len(X_test))\n"
   ]
  },
  {
   "cell_type": "markdown",
   "metadata": {},
   "source": [
    "# chuẩn hóa dữ liệu"
   ]
  },
  {
   "cell_type": "code",
   "execution_count": 16,
   "metadata": {},
   "outputs": [],
   "source": [
    "from sklearn.preprocessing import StandardScaler\n",
    "\n",
    "# Khởi tạo một scaler\n",
    "scaler = StandardScaler()\n",
    "\n",
    "# Chuẩn hóa dữ liệu huấn luyện và dữ liệu kiểm tra\n",
    "X_train_scaled = scaler.fit_transform(X_train)\n",
    "X_test_scaled = scaler.transform(X_test)\n"
   ]
  },
  {
   "cell_type": "markdown",
   "metadata": {},
   "source": [
    "# xây dựng mô hình"
   ]
  },
  {
   "cell_type": "code",
   "execution_count": 22,
   "metadata": {},
   "outputs": [
    {
     "name": "stdout",
     "output_type": "stream",
     "text": [
      "Accuracy of KNN model: 0.8055555555555556\n"
     ]
    }
   ],
   "source": [
    "from sklearn.neighbors import KNeighborsClassifier\n",
    "from sklearn.metrics import accuracy_score\n",
    "\n",
    "# Khởi tạo mô hình KNN với số lượng láng giềng gần nhất là 5\n",
    "clf = KNeighborsClassifier(n_neighbors=3)\n",
    "\n",
    "# Huấn luyện mô hình trên tập huấn luyện\n",
    "clf.fit(X_train, y_train)\n",
    "\n",
    "# Dự đoán nhãn cho tập kiểm tra\n",
    "y_pred = clf.predict(X_test)\n",
    "\n",
    "# Đánh giá hiệu suất của mô hình bằng accuracy score\n",
    "accuracy = accuracy_score(y_test, y_pred)\n",
    "print(\"Accuracy of KNN model:\", accuracy)\n"
   ]
  },
  {
   "cell_type": "markdown",
   "metadata": {},
   "source": [
    "# Tinh chỉnh siêu tham số\n"
   ]
  },
  {
   "cell_type": "code",
   "execution_count": 21,
   "metadata": {},
   "outputs": [
    {
     "name": "stdout",
     "output_type": "stream",
     "text": [
      "Best parameters found: {'n_neighbors': 8, 'p': 1}\n",
      "Accuracy of the best model: 0.8333333333333334\n"
     ]
    }
   ],
   "source": [
    "from sklearn.model_selection import RandomizedSearchCV\n",
    "from sklearn.neighbors import KNeighborsClassifier\n",
    "from scipy.stats import randint\n",
    "\n",
    "# Định nghĩa phạm vi các siêu tham số cần tinh chỉnh\n",
    "param_dist = {\n",
    "    'n_neighbors': randint(1, 20),  # Số lượng láng giềng\n",
    "    'p': [1, 2]  # Phương pháp tính khoảng cách: 1 cho khoảng cách Manhattan, 2 cho khoảng cách Euclidean\n",
    "}\n",
    "\n",
    "# Tạo một randomized search với mô hình KNeighborsClassifier\n",
    "random_search = RandomizedSearchCV(\n",
    "    KNeighborsClassifier(),  # Mô hình KNN\n",
    "    param_distributions=param_dist,  # Phạm vi siêu tham số\n",
    "    n_iter=10,  # Số lượng lần lặp để tìm kiếm ngẫu nhiên\n",
    "    cv=5  # Số lượng folds trong cross-validation\n",
    ")\n",
    "\n",
    "# Huấn luyện randomized search trên dữ liệu huấn luyện\n",
    "random_search.fit(X_train, y_train)\n",
    "\n",
    "# In ra các siêu tham số tốt nhất được tìm thấy\n",
    "print(\"Best parameters found:\", random_search.best_params_)\n",
    "\n",
    "# Đánh giá hiệu suất của mô hình tốt nhất trên tập kiểm tra\n",
    "best_model = random_search.best_estimator_\n",
    "y_pred = best_model.predict(X_test)\n",
    "accuracy = accuracy_score(y_test, y_pred)\n",
    "print(\"Accuracy of the best model:\", accuracy)\n"
   ]
  }
 ],
 "metadata": {
  "kernelspec": {
   "display_name": ".venv",
   "language": "python",
   "name": "python3"
  },
  "language_info": {
   "codemirror_mode": {
    "name": "ipython",
    "version": 3
   },
   "file_extension": ".py",
   "mimetype": "text/x-python",
   "name": "python",
   "nbconvert_exporter": "python",
   "pygments_lexer": "ipython3",
   "version": "3.12.2"
  }
 },
 "nbformat": 4,
 "nbformat_minor": 2
}
