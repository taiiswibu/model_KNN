{
 "cells": [
  {
   "cell_type": "markdown",
   "metadata": {},
   "source": [
    "# Bộ dữ liệu Wine "
   ]
  },
  {
   "cell_type": "markdown",
   "metadata": {},
   "source": [
    "Để đánh giá hiệu suất của mô hình KNN, tui sử dụng thêm bộ dữ liệu Wine để đánh giá. Bộ dữ liệu Wine  này bao gồm thông tin về các loại rượu và các đặc tính hóa học của chúng, với tổng cộng 178 mẫu và 13 đặc trưng."
   ]
  },
  {
   "cell_type": "code",
   "execution_count": 2,
   "metadata": {},
   "outputs": [
    {
     "name": "stderr",
     "output_type": "stream",
     "text": [
      "<>:15: SyntaxWarning: invalid escape sequence '\\C'\n",
      "<>:15: SyntaxWarning: invalid escape sequence '\\C'\n",
      "C:\\Users\\vovan\\AppData\\Local\\Temp\\ipykernel_29332\\2012939126.py:15: SyntaxWarning: invalid escape sequence '\\C'\n",
      "  file_path = 'D:\\Code\\May_hoc\\data\\wine_dataset.csv'\n"
     ]
    },
    {
     "name": "stdout",
     "output_type": "stream",
     "text": [
      "Tập dữ liệu Wine đã được lưu vào: wine_dataset.csv\n"
     ]
    }
   ],
   "source": [
    "import pandas as pd\n",
    "from sklearn.datasets import load_wine\n",
    "\n",
    "# Tải tập dữ liệu Wine\n",
    "wine = load_wine()\n",
    "\n",
    "# Tạo DataFrame từ dữ liệu và nhãn\n",
    "df = pd.DataFrame(data=wine.data, columns=wine.feature_names)\n",
    "df['Target'] = wine.target\n",
    "\n",
    "# Thêm cột ID\n",
    "df.insert(0, 'Id', range(1, len(df) + 1))\n",
    "\n",
    "# Lưu DataFrame vào một tệp CSV trong thư mục chỉ định\n",
    "file_path = 'D:\\Code\\May_hoc\\data\\wine_dataset.csv'\n",
    "df.to_csv(file_path, index=False)\n",
    "\n",
    "print(\"Tập dữ liệu Wine đã được lưu vào: wine_dataset.csv\")\n"
   ]
  },
  {
   "cell_type": "markdown",
   "metadata": {},
   "source": [
    "# Tiền xử lý và trực quan hóa dữ liệu"
   ]
  },
  {
   "cell_type": "code",
   "execution_count": 3,
   "metadata": {},
   "outputs": [
    {
     "name": "stdout",
     "output_type": "stream",
     "text": [
      "      Id  alcohol  malic_acid   ash  alcalinity_of_ash  magnesium  \\\n",
      "0      1    14.23        1.71  2.43               15.6      127.0   \n",
      "1      2    13.20        1.78  2.14               11.2      100.0   \n",
      "2      3    13.16        2.36  2.67               18.6      101.0   \n",
      "3      4    14.37        1.95  2.50               16.8      113.0   \n",
      "4      5    13.24        2.59  2.87               21.0      118.0   \n",
      "..   ...      ...         ...   ...                ...        ...   \n",
      "173  174    13.71        5.65  2.45               20.5       95.0   \n",
      "174  175    13.40        3.91  2.48               23.0      102.0   \n",
      "175  176    13.27        4.28  2.26               20.0      120.0   \n",
      "176  177    13.17        2.59  2.37               20.0      120.0   \n",
      "177  178    14.13        4.10  2.74               24.5       96.0   \n",
      "\n",
      "     total_phenols  flavanoids  nonflavanoid_phenols  proanthocyanins  \\\n",
      "0             2.80        3.06                  0.28             2.29   \n",
      "1             2.65        2.76                  0.26             1.28   \n",
      "2             2.80        3.24                  0.30             2.81   \n",
      "3             3.85        3.49                  0.24             2.18   \n",
      "4             2.80        2.69                  0.39             1.82   \n",
      "..             ...         ...                   ...              ...   \n",
      "173           1.68        0.61                  0.52             1.06   \n",
      "174           1.80        0.75                  0.43             1.41   \n",
      "175           1.59        0.69                  0.43             1.35   \n",
      "176           1.65        0.68                  0.53             1.46   \n",
      "177           2.05        0.76                  0.56             1.35   \n",
      "\n",
      "     color_intensity   hue  od280/od315_of_diluted_wines  proline  Target  \n",
      "0               5.64  1.04                          3.92   1065.0       0  \n",
      "1               4.38  1.05                          3.40   1050.0       0  \n",
      "2               5.68  1.03                          3.17   1185.0       0  \n",
      "3               7.80  0.86                          3.45   1480.0       0  \n",
      "4               4.32  1.04                          2.93    735.0       0  \n",
      "..               ...   ...                           ...      ...     ...  \n",
      "173             7.70  0.64                          1.74    740.0       2  \n",
      "174             7.30  0.70                          1.56    750.0       2  \n",
      "175            10.20  0.59                          1.56    835.0       2  \n",
      "176             9.30  0.60                          1.62    840.0       2  \n",
      "177             9.20  0.61                          1.60    560.0       2  \n",
      "\n",
      "[178 rows x 15 columns]\n"
     ]
    }
   ],
   "source": [
    "# hiện thị dataset\n",
    "print(df)"
   ]
  },
  {
   "cell_type": "code",
   "execution_count": 4,
   "metadata": {},
   "outputs": [
    {
     "name": "stdout",
     "output_type": "stream",
     "text": [
      "               Id     alcohol  malic_acid         ash  alcalinity_of_ash  \\\n",
      "count  178.000000  178.000000  178.000000  178.000000         178.000000   \n",
      "mean    89.500000   13.000618    2.336348    2.366517          19.494944   \n",
      "std     51.528309    0.811827    1.117146    0.274344           3.339564   \n",
      "min      1.000000   11.030000    0.740000    1.360000          10.600000   \n",
      "25%     45.250000   12.362500    1.602500    2.210000          17.200000   \n",
      "50%     89.500000   13.050000    1.865000    2.360000          19.500000   \n",
      "75%    133.750000   13.677500    3.082500    2.557500          21.500000   \n",
      "max    178.000000   14.830000    5.800000    3.230000          30.000000   \n",
      "\n",
      "        magnesium  total_phenols  flavanoids  nonflavanoid_phenols  \\\n",
      "count  178.000000     178.000000  178.000000            178.000000   \n",
      "mean    99.741573       2.295112    2.029270              0.361854   \n",
      "std     14.282484       0.625851    0.998859              0.124453   \n",
      "min     70.000000       0.980000    0.340000              0.130000   \n",
      "25%     88.000000       1.742500    1.205000              0.270000   \n",
      "50%     98.000000       2.355000    2.135000              0.340000   \n",
      "75%    107.000000       2.800000    2.875000              0.437500   \n",
      "max    162.000000       3.880000    5.080000              0.660000   \n",
      "\n",
      "       proanthocyanins  color_intensity         hue  \\\n",
      "count       178.000000       178.000000  178.000000   \n",
      "mean          1.590899         5.058090    0.957449   \n",
      "std           0.572359         2.318286    0.228572   \n",
      "min           0.410000         1.280000    0.480000   \n",
      "25%           1.250000         3.220000    0.782500   \n",
      "50%           1.555000         4.690000    0.965000   \n",
      "75%           1.950000         6.200000    1.120000   \n",
      "max           3.580000        13.000000    1.710000   \n",
      "\n",
      "       od280/od315_of_diluted_wines      proline      Target  \n",
      "count                    178.000000   178.000000  178.000000  \n",
      "mean                       2.611685   746.893258    0.938202  \n",
      "std                        0.709990   314.907474    0.775035  \n",
      "min                        1.270000   278.000000    0.000000  \n",
      "25%                        1.937500   500.500000    0.000000  \n",
      "50%                        2.780000   673.500000    1.000000  \n",
      "75%                        3.170000   985.000000    2.000000  \n",
      "max                        4.000000  1680.000000    2.000000  \n"
     ]
    }
   ],
   "source": [
    "# Thống kê cơ bản về dữ liệu\n",
    "print(df.describe())"
   ]
  },
  {
   "cell_type": "code",
   "execution_count": 5,
   "metadata": {},
   "outputs": [
    {
     "name": "stdout",
     "output_type": "stream",
     "text": [
      "Id                              0\n",
      "alcohol                         0\n",
      "malic_acid                      0\n",
      "ash                             0\n",
      "alcalinity_of_ash               0\n",
      "magnesium                       0\n",
      "total_phenols                   0\n",
      "flavanoids                      0\n",
      "nonflavanoid_phenols            0\n",
      "proanthocyanins                 0\n",
      "color_intensity                 0\n",
      "hue                             0\n",
      "od280/od315_of_diluted_wines    0\n",
      "proline                         0\n",
      "Target                          0\n",
      "dtype: int64\n"
     ]
    }
   ],
   "source": [
    "# Kiểm tra dữ liệu bị thiếu\n",
    "print(df.isnull().sum())"
   ]
  },
  {
   "cell_type": "code",
   "execution_count": 6,
   "metadata": {},
   "outputs": [
    {
     "name": "stdout",
     "output_type": "stream",
     "text": [
      "[[-1.72234737  1.51861254 -0.5622498  ...  0.36217728  1.84791957\n",
      "   1.01300893]\n",
      " [-1.70288581  0.24628963 -0.49941338 ...  0.40605066  1.1134493\n",
      "   0.96524152]\n",
      " [-1.68342426  0.19687903  0.02123125 ...  0.31830389  0.78858745\n",
      "   1.39514818]\n",
      " ...\n",
      " [ 1.68342426  0.33275817  1.74474449 ... -1.61212515 -1.48544548\n",
      "   0.28057537]\n",
      " [ 1.70288581  0.20923168  0.22769377 ... -1.56825176 -1.40069891\n",
      "   0.29649784]\n",
      " [ 1.72234737  1.39508604  1.58316512 ... -1.52437837 -1.42894777\n",
      "  -0.59516041]]\n"
     ]
    }
   ],
   "source": [
    "# Chuẩn hóa dữ liệu\n",
    "from sklearn.preprocessing import StandardScaler\n",
    "\n",
    "scaler = StandardScaler()\n",
    "df_scaled = scaler.fit_transform(df.drop('Target', axis=1))\n",
    "\n",
    "print(df_scaled)"
   ]
  },
  {
   "cell_type": "markdown",
   "metadata": {},
   "source": [
    "# Tách training và test sets\n",
    " chúng ta chia dữ liệu thành tập huấn luyện (80%) và tập kiểm tra (20%). Điều này có nghĩa là 80% dữ liệu sẽ được sử dụng để huấn luyện mô hình và 20% còn lại sẽ được sử dụng để đánh giá mô hình"
   ]
  },
  {
   "cell_type": "code",
   "execution_count": 7,
   "metadata": {},
   "outputs": [
    {
     "name": "stdout",
     "output_type": "stream",
     "text": [
      "Số lượng mẫu trong tập huấn luyện: 142\n",
      "Số lượng mẫu trong tập kiểm tra: 36\n"
     ]
    }
   ],
   "source": [
    "from sklearn.model_selection import train_test_split\n",
    "\n",
    "# Tách dữ liệu thành tập huấn luyện và tập kiểm tra\n",
    "X_train, X_test, y_train, y_test = train_test_split(wine.data, wine.target, test_size=0.2)\n",
    "\n",
    "print(\"Số lượng mẫu trong tập huấn luyện:\", len(X_train))\n",
    "print(\"Số lượng mẫu trong tập kiểm tra:\", len(X_test))\n"
   ]
  },
  {
   "cell_type": "code",
   "execution_count": 8,
   "metadata": {},
   "outputs": [
    {
     "name": "stdout",
     "output_type": "stream",
     "text": [
      "Print results for 20 test data points:\n",
      "Predicted labels:  [2 1 1 1 2 1 2 1 2 2 2 0 1 2 0 0 2 0 1 0]\n",
      "Ground truth    :  [0 1 1 0 2 1 1 1 1 2 1 0 1 2 0 0 2 0 1 0]\n"
     ]
    }
   ],
   "source": [
    "from sklearn.model_selection import train_test_split\n",
    "from sklearn import neighbors, datasets\n",
    "from sklearn.metrics import accuracy_score\n",
    "\n",
    "# Huấn luyện mô hình KNN với k = 1 và độ đo khoảng cách Euclidean (p = 2)\n",
    "clf = neighbors.KNeighborsClassifier(n_neighbors=1, p=2)\n",
    "clf.fit(X_train, y_train)\n",
    "\n",
    "# Dự đoán nhãn cho dữ liệu kiểm tra\n",
    "y_pred = clf.predict(X_test)\n",
    "\n",
    "# In kết quả dự đoán cho 20 điểm dữ liệu kiểm tra đầu tiên\n",
    "print(\"Print results for 20 test data points:\")\n",
    "print(\"Predicted labels: \", y_pred[:20])\n",
    "print(\"Ground truth    : \", y_test[:20])\n"
   ]
  },
  {
   "cell_type": "markdown",
   "metadata": {},
   "source": [
    "# xây dựng mô hình"
   ]
  },
  {
   "cell_type": "code",
   "execution_count": 9,
   "metadata": {},
   "outputs": [
    {
     "name": "stdout",
     "output_type": "stream",
     "text": [
      "Accuracy of KNN model: 0.7777777777777778\n"
     ]
    }
   ],
   "source": [
    "from sklearn.neighbors import KNeighborsClassifier\n",
    "from sklearn.metrics import accuracy_score\n",
    "\n",
    "# Khởi tạo mô hình KNN với số lượng láng giềng gần nhất là 5\n",
    "clf = KNeighborsClassifier(n_neighbors=5, p =2)\n",
    "\n",
    "# Huấn luyện mô hình trên tập huấn luyện\n",
    "clf.fit(X_train, y_train)\n",
    "\n",
    "# Dự đoán nhãn cho tập kiểm tra\n",
    "y_pred = clf.predict(X_test)\n",
    "\n",
    "# Đánh giá hiệu suất của mô hình bằng accuracy score\n",
    "accuracy = accuracy_score(y_test, y_pred)\n",
    "print(\"Accuracy of KNN model:\", accuracy)\n"
   ]
  },
  {
   "cell_type": "markdown",
   "metadata": {},
   "source": [
    "# Tinh chỉnh siêu tham số\n"
   ]
  },
  {
   "cell_type": "code",
   "execution_count": 10,
   "metadata": {},
   "outputs": [
    {
     "name": "stdout",
     "output_type": "stream",
     "text": [
      "Best parameters found: {'n_neighbors': 16, 'p': 1}\n",
      "Accuracy of the best model: 0.8611111111111112\n"
     ]
    }
   ],
   "source": [
    "from sklearn.model_selection import RandomizedSearchCV\n",
    "from sklearn.neighbors import KNeighborsClassifier\n",
    "from scipy.stats import randint\n",
    "\n",
    "# Định nghĩa phạm vi các siêu tham số cần tinh chỉnh\n",
    "param_dist = {\n",
    "    'n_neighbors': randint(1, 20),  # Số lượng láng giềng\n",
    "    'p': [1, 2]  # Phương pháp tính khoảng cách: 1 cho khoảng cách Manhattan, 2 cho khoảng cách Euclidean\n",
    "}\n",
    "\n",
    "# Tạo một randomized search với mô hình KNeighborsClassifier\n",
    "random_search = RandomizedSearchCV(\n",
    "    KNeighborsClassifier(),  # Mô hình KNN\n",
    "    param_distributions=param_dist,  # Phạm vi siêu tham số\n",
    "    n_iter=10,  # Số lượng lần lặp để tìm kiếm ngẫu nhiên\n",
    "    cv=5  # Số lượng folds trong cross-validation\n",
    ")\n",
    "\n",
    "# Huấn luyện randomized search trên dữ liệu huấn luyện\n",
    "random_search.fit(X_train, y_train)\n",
    "\n",
    "# In ra các siêu tham số tốt nhất được tìm thấy\n",
    "print(\"Best parameters found:\", random_search.best_params_)\n",
    "\n",
    "# Đánh giá hiệu suất của mô hình tốt nhất trên tập kiểm tra\n",
    "best_model = random_search.best_estimator_\n",
    "y_pred = best_model.predict(X_test)\n",
    "accuracy = accuracy_score(y_test, y_pred)\n",
    "print(\"Accuracy of the best model:\", accuracy)\n"
   ]
  },
  {
   "cell_type": "markdown",
   "metadata": {},
   "source": [
    "đánh giá mô hình bằng cross-validation"
   ]
  },
  {
   "cell_type": "code",
   "execution_count": 11,
   "metadata": {},
   "outputs": [
    {
     "name": "stdout",
     "output_type": "stream",
     "text": [
      "Cross-validation scores: [0.72413793 0.72413793 0.60714286 0.82142857 0.64285714]\n",
      "Average cross-validation accuracy: 70.39 %\n"
     ]
    }
   ],
   "source": [
    "from sklearn.model_selection import cross_val_score\n",
    "\n",
    "# Tạo mô hình KNeighborsClassifier với các siêu tham số tốt nhất được tìm thấy\n",
    "best_model = random_search.best_estimator_\n",
    "\n",
    "# Đánh giá hiệu suất của mô hình bằng cross-validation\n",
    "cv_scores = cross_val_score(best_model, X_train, y_train, cv=5)\n",
    "\n",
    "# In ra độ chính xác trung bình của các fold\n",
    "print(\"Cross-validation scores:\", cv_scores)\n",
    "print(\"Average cross-validation accuracy: %.2f %%\" % (100 * cv_scores.mean()))\n"
   ]
  },
  {
   "cell_type": "markdown",
   "metadata": {},
   "source": [
    "# Triển khai mô hình:"
   ]
  },
  {
   "cell_type": "code",
   "execution_count": 27,
   "metadata": {},
   "outputs": [
    {
     "name": "stdout",
     "output_type": "stream",
     "text": [
      "Data: [12.37, 0.94, 1.36, 10.6, 88, 1.98, 0.57, 0.28, 0.42, 1.95, 1.05, 1.82, 520] Predicted label: Class 1\n",
      "Data: [13.76, 1.53, 2.7, 19.5, 132, 2.95, 2.74, 0.5, 1.35, 5.4, 1.25, 3, 1230] Predicted label: Class 0\n",
      "Data: [13.4, 3.91, 2.48, 23.0, 102.0, 1.8, 0.75, 0.43, 1.41, 7.3, 0.7, 1.56, 750.0] Predicted label: Class 2\n"
     ]
    }
   ],
   "source": [
    "\n",
    "best_model.fit(X_train, y_train)\n",
    "\n",
    "# Dự đoán nhãn cho các điểm dữ liệu mới\n",
    "new_data = [\n",
    "    [12.37, 0.94, 1.36, 10.6, 88, 1.98, 0.57, 0.28, 0.42, 1.95, 1.05, 1.82, 520],  \n",
    "    [13.76, 1.53, 2.7, 19.5, 132, 2.95, 2.74, 0.5, 1.35, 5.4, 1.25, 3, 1230],         \n",
    "    [13.4,3.91,2.48,23.0,102.0,1.8,0.75,0.43,1.41,7.3,0.7,1.56,750.0]    \n",
    "]\n",
    "predicted_labels = best_model.predict(new_data)\n",
    "\n",
    "# In ra kết quả dự đoán\n",
    "for i, data in enumerate(new_data):\n",
    "    print(\"Data:\", data, \"Predicted label: Class\", predicted_labels[i])\n"
   ]
  },
  {
   "cell_type": "code",
   "execution_count": null,
   "metadata": {},
   "outputs": [],
   "source": []
  }
 ],
 "metadata": {
  "kernelspec": {
   "display_name": ".venv",
   "language": "python",
   "name": "python3"
  },
  "language_info": {
   "codemirror_mode": {
    "name": "ipython",
    "version": 3
   },
   "file_extension": ".py",
   "mimetype": "text/x-python",
   "name": "python",
   "nbconvert_exporter": "python",
   "pygments_lexer": "ipython3",
   "version": "3.12.2"
  }
 },
 "nbformat": 4,
 "nbformat_minor": 2
}
